{
 "cells": [
  {
   "cell_type": "markdown",
   "id": "8c1b673f",
   "metadata": {},
   "source": [
    "### Students were told to input their names and Aptitude test results to see the outcome of their grades"
   ]
  },
  {
   "cell_type": "code",
   "execution_count": null,
   "id": "1cfbd073",
   "metadata": {},
   "outputs": [],
   "source": [
    "#SYNTAX\n",
    "# if experssion:\n",
    "#     statement(s)\n",
    "# elif expression2:\n",
    "#     statement(s)\n",
    "# else:\n",
    "#     statement(s)\n"
   ]
  },
  {
   "cell_type": "code",
   "execution_count": 27,
   "id": "0518f801",
   "metadata": {},
   "outputs": [
    {
     "name": "stdout",
     "output_type": "stream",
     "text": [
      "What is your name?Ama\n",
      "What is your score?45\n",
      "Pass\n",
      "Sit Up\n"
     ]
    }
   ],
   "source": [
    "name = input('What is your name?')\n",
    "score = float(input('What is your score?'))\n",
    "\n",
    "#score == range(0,50)\n",
    "if score <= 50:\n",
    "    print('Pass')\n",
    "elif 50 < score <= 60:\n",
    "    print('Fair')\n",
    "elif 61 < score <= 65:\n",
    "    print('Average')\n",
    "elif 66 < score <= 70:\n",
    "    print('Good') \n",
    "elif 71 < score <= 85:\n",
    "    print('Very Good')\n",
    "elif 86 < score <= 100:\n",
    "    print('Excellent')    \n",
    "else:\n",
    "    print('See Headmaster')\n",
    "print('Sit Up')    "
   ]
  },
  {
   "cell_type": "code",
   "execution_count": 28,
   "id": "e312111e",
   "metadata": {},
   "outputs": [
    {
     "name": "stdout",
     "output_type": "stream",
     "text": [
      "What is your name?Adwoa\n",
      "What is your score?98\n",
      "Excellent\n",
      "Congratulations\n"
     ]
    }
   ],
   "source": [
    "name = input('What is your name?')\n",
    "score = float(input('What is your score?'))\n",
    "\n",
    "#score == range(0,50)\n",
    "if score <= 50:\n",
    "    print('Pass')\n",
    "elif 50 < score <= 60:\n",
    "    print('Fair')\n",
    "elif 61 < score <= 65:\n",
    "    print('Average')\n",
    "elif 66 < score <= 70:\n",
    "    print('Good') \n",
    "elif 71 < score <= 85:\n",
    "    print('Very Good')\n",
    "elif 86 < score <= 100:\n",
    "    print('Excellent')    \n",
    "else:\n",
    "    print('See Headmaster')\n",
    "print('Congratulations')    "
   ]
  },
  {
   "cell_type": "code",
   "execution_count": 29,
   "id": "d486ad16",
   "metadata": {},
   "outputs": [
    {
     "name": "stdout",
     "output_type": "stream",
     "text": [
      "What is your name?Abena\n",
      "What is your score?150\n",
      "See Headmaster\n",
      "Go to Gifted School\n"
     ]
    }
   ],
   "source": [
    "name = input('What is your name?')\n",
    "score = float(input('What is your score?'))\n",
    "\n",
    "if score <= 50:\n",
    "    print('Pass')\n",
    "elif 50 < score <= 60:\n",
    "    print('Fair')\n",
    "elif 61 < score <= 65:\n",
    "    print('Average')\n",
    "elif 66 < score <= 70:\n",
    "    print('Good') \n",
    "elif 71 < score <= 85:\n",
    "    print('Very Good')\n",
    "elif 86 < score <= 100:\n",
    "    print('Excellent')    \n",
    "else:\n",
    "    print('See Headmaster')\n",
    "print('Go to Gifted School')    "
   ]
  },
  {
   "cell_type": "markdown",
   "id": "bb36b422",
   "metadata": {},
   "source": [
    "### This is the python calculation of the e-levy passed in Ghana"
   ]
  },
  {
   "cell_type": "code",
   "execution_count": 22,
   "id": "118c1419",
   "metadata": {},
   "outputs": [
    {
     "name": "stdout",
     "output_type": "stream",
     "text": [
      "How much are you sending400\n",
      "Your total charge is 404.5\n",
      "Thank you\n"
     ]
    }
   ],
   "source": [
    "amount = float(input('How much are you sending'))\n",
    "taxable_amount = amount - 100\n",
    "if amount >100:\n",
    "    E_levy = taxable_amount*0.015\n",
    "    Total_amount = amount + E_levy\n",
    "    print('Your total charge is',Total_amount)\n",
    "else:\n",
    "    print('No e-levy charge on',amount)\n",
    "print('Thank you')    "
   ]
  },
  {
   "cell_type": "code",
   "execution_count": 23,
   "id": "3b865390",
   "metadata": {},
   "outputs": [
    {
     "name": "stdout",
     "output_type": "stream",
     "text": [
      "How much are you sending80\n",
      "No e-levy charge on 80.0\n",
      "Thank you\n"
     ]
    }
   ],
   "source": [
    "amount = float(input('How much are you sending'))\n",
    "taxable_amount = amount - 100\n",
    "if amount >100:\n",
    "    E_levy = taxable_amount*0.015\n",
    "    Total_amount = amount + E_levy\n",
    "    print('Your total charge is',Total_amount)\n",
    "else:\n",
    "    print('No e-levy charge on',amount)\n",
    "print('Thank you')    "
   ]
  },
  {
   "cell_type": "code",
   "execution_count": null,
   "id": "02d44657",
   "metadata": {},
   "outputs": [],
   "source": []
  }
 ],
 "metadata": {
  "kernelspec": {
   "display_name": "Python 3",
   "language": "python",
   "name": "python3"
  },
  "language_info": {
   "codemirror_mode": {
    "name": "ipython",
    "version": 3
   },
   "file_extension": ".py",
   "mimetype": "text/x-python",
   "name": "python",
   "nbconvert_exporter": "python",
   "pygments_lexer": "ipython3",
   "version": "3.8.8"
  }
 },
 "nbformat": 4,
 "nbformat_minor": 5
}
